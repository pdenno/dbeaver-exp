{
 "cells": [
  {
   "cell_type": "markdown",
   "id": "2d0ff646",
   "metadata": {},
   "source": [
    "# Sqlite DB Demo using DBeaver Connection Setting Info"
   ]
  },
  {
   "cell_type": "markdown",
   "id": "c4f29467",
   "metadata": {},
   "source": [
    "This is a notebook to demonstrate that the information in DBeaver about the example music album DB is sufficient to make a connection and run a query. DBeaver provides extensive dialogs providing information about DBs. This one is sqlite3. Others are likely to be similar, but not identical."
   ]
  },
  {
   "cell_type": "code",
   "execution_count": 1,
   "id": "61f0fdb9",
   "metadata": {},
   "outputs": [],
   "source": [
    "import sqlite3\n",
    "import pandas as pd"
   ]
  },
  {
   "cell_type": "code",
   "execution_count": 2,
   "id": "88c3b3f2",
   "metadata": {},
   "outputs": [],
   "source": [
    "# Identify the DB file; It is the 'Path' under the DBeaver \"Connection settings\"\n",
    "database_file = \"/home/pdenno/.local/share/DBeaverData/workspace6/.metadata/sample-database-sqlite-1/Chinook.db\""
   ]
  },
  {
   "cell_type": "code",
   "execution_count": 3,
   "id": "5de54d3c",
   "metadata": {},
   "outputs": [
    {
     "name": "stdout",
     "output_type": "stream",
     "text": [
      "An error occurred: unable to open database file\n"
     ]
    },
    {
     "ename": "NameError",
     "evalue": "name 'connection' is not defined",
     "output_type": "error",
     "traceback": [
      "\u001b[31m---------------------------------------------------------------------------\u001b[39m",
      "\u001b[31mNameError\u001b[39m                                 Traceback (most recent call last)",
      "\u001b[36mCell\u001b[39m\u001b[36m \u001b[39m\u001b[32mIn[3]\u001b[39m\u001b[32m, line 34\u001b[39m\n\u001b[32m     30\u001b[39m     \u001b[38;5;28mprint\u001b[39m(\u001b[33mf\u001b[39m\u001b[33m\"\u001b[39m\u001b[33mAn error occurred: \u001b[39m\u001b[38;5;132;01m{\u001b[39;00me\u001b[38;5;132;01m}\u001b[39;00m\u001b[33m\"\u001b[39m)\n\u001b[32m     32\u001b[39m \u001b[38;5;28;01mfinally\u001b[39;00m:\n\u001b[32m     33\u001b[39m     \u001b[38;5;66;03m# Close the connection\u001b[39;00m\n\u001b[32m---> \u001b[39m\u001b[32m34\u001b[39m     \u001b[38;5;28;01mif\u001b[39;00m \u001b[43mconnection\u001b[49m:\n\u001b[32m     35\u001b[39m         connection.close()\n\u001b[32m     36\u001b[39m         \u001b[38;5;28mprint\u001b[39m(\u001b[33mf\u001b[39m\u001b[33m\"\u001b[39m\u001b[33mConnection to \u001b[39m\u001b[38;5;132;01m{\u001b[39;00mdatabase_file\u001b[38;5;132;01m}\u001b[39;00m\u001b[33m closed.\u001b[39m\u001b[33m\"\u001b[39m)\n",
      "\u001b[31mNameError\u001b[39m: name 'connection' is not defined"
     ]
    }
   ],
   "source": [
    "try:\n",
    "    # Connect to the SQLite database.\n",
    "    connection = sqlite3.connect(database_file)\n",
    "    print(f\"Successfully connected to {database_file}\")\n",
    "\n",
    "    # Create a cursor object to execute SQL commands\n",
    "    cursor = connection.cursor()\n",
    "\n",
    "    # Query the data\n",
    "    cursor.execute('''\n",
    "    SELECT \n",
    "    Track.Name AS TrackName,\n",
    "    Album.Title AS AlbumTitle,\n",
    "    Artist.Name AS ArtistName,\n",
    "    Track.Milliseconds AS TrackMillis\n",
    "    FROM \n",
    "        Track\n",
    "    JOIN \n",
    "        Album ON Track.AlbumId = Album.AlbumId\n",
    "    JOIN \n",
    "        Artist ON Album.ArtistId = Artist.ArtistId\n",
    "    ORDER BY \n",
    "        Artist.Name;''')\n",
    "    rows = cursor.fetchall()\n",
    "    print(f\"Retrieved {len(rows)} tuples\")\n",
    "    for row in rows:\n",
    "        print(row)\n",
    "\n",
    "except sqlite3.Error as e:\n",
    "    print(f\"An error occurred: {e}\")\n",
    "\n",
    "finally:\n",
    "    # Close the connection\n",
    "    if connection:\n",
    "        connection.close()\n",
    "        print(f\"Connection to {database_file} closed.\")"
   ]
  },
  {
   "cell_type": "code",
   "execution_count": 9,
   "id": "0ecf6bba",
   "metadata": {},
   "outputs": [
    {
     "data": {
      "text/plain": [
       "3503"
      ]
     },
     "execution_count": 9,
     "metadata": {},
     "output_type": "execute_result"
    }
   ],
   "source": [
    "len(rows)"
   ]
  },
  {
   "cell_type": "code",
   "execution_count": null,
   "id": "4ca6ada6",
   "metadata": {},
   "outputs": [],
   "source": []
  }
 ],
 "metadata": {
  "kernelspec": {
   "display_name": "Python 3 (ipykernel)",
   "language": "python",
   "name": "python3"
  },
  "language_info": {
   "codemirror_mode": {
    "name": "ipython",
    "version": 3
   },
   "file_extension": ".py",
   "mimetype": "text/x-python",
   "name": "python",
   "nbconvert_exporter": "python",
   "pygments_lexer": "ipython3",
   "version": "3.12.12"
  }
 },
 "nbformat": 4,
 "nbformat_minor": 5
}
